{
  "nbformat": 4,
  "nbformat_minor": 0,
  "metadata": {
    "colab": {
      "provenance": [],
      "include_colab_link": true
    },
    "kernelspec": {
      "name": "python3",
      "display_name": "Python 3"
    },
    "language_info": {
      "name": "python"
    }
  },
  "cells": [
    {
      "cell_type": "markdown",
      "metadata": {
        "id": "view-in-github",
        "colab_type": "text"
      },
      "source": [
        "<a href=\"https://colab.research.google.com/github/udoli3/1st-Rep/blob/master/Python_quest/Quest04/PythonQuest04.ipynb\" target=\"_parent\"><img src=\"https://colab.research.google.com/assets/colab-badge.svg\" alt=\"Open In Colab\"/></a>"
      ]
    },
    {
      "cell_type": "markdown",
      "source": [],
      "metadata": {
        "id": "e-QWS1w6juFw"
      }
    },
    {
      "cell_type": "markdown",
      "source": [],
      "metadata": {
        "id": "EffVTLi_kq3n"
      }
    },
    {
      "cell_type": "markdown",
      "source": [
        "# Quest05. 파이썬을 사용하여 간단한 계산기 만들기\n",
        "\n",
        "- 사용자로부터 두 개의 정수와 연산자(+,-,*,/,**)를 입력받아 계산 결과를 출력하는 프로그램을 만들어야 합니다.\n",
        "\n",
        "- 조건\n",
        "  -  사용자가 입력한 값이 정수가 아닌 경우 ValueError를 처리하여 적절한 오류 메세지를 출력해야 합니다.\n",
        "  - 정수가 입력될 때까지 \"잘못된 입력입니다. 정수를 입력해주세요.\"를 출력하며, 다시 입력받기를 시도합니다.\n",
        "  - 나눗셈 연산 시 두 번째 정수가 0인 경우 ZeroDivisionError를 처리하여 적절한 오류 메세지를 출력합니다.\n",
        "  - 사용자가 지원하지 않는 연산자를 입력한 경우 적절한 오류 메세지를 출력합니다.\n",
        "  - math 모듈을 사용하여 제곱 연산(**)을 지원합니다.\n",
        "  - 계산기를 통해 계속 계산을 할 것인지를 입력받습니다.\n",
        "\n",
        "\n",
        "## 파이썬의 예외처리 방법\n",
        "try-except를 사용해서 예외를 처리합니다.\n",
        "\n",
        "```python\n",
        "try:\n",
        "  실행할 코드\n",
        "except (예외이름):\n",
        "  예외 발생 시 실행할 코드\n",
        "\n",
        "# 또는 아래와 같이 오류 변수를 사용할 수도 있다.\n",
        "try:\n",
        "  실행할 코드\n",
        "except 예외이름 as 오류변수:\n",
        "  예외 발생 시 실행할 코드\n",
        "  # 예시 : print(오류변수)\n",
        "\n",
        "try:\n",
        "  실행할 코드\n",
        "finally:\n",
        "```\n",
        "\n",
        "## 파이썬에서 예외가 발생하는 경우\n",
        "1. 없는 파일을 사용하려고 시도했을 때 -> FileNotFoundError\n",
        "2. 어떤 수를 0으로 나누었을 때 -> ZeroDivisionError\n",
        "3. 리스트 요소에서 없는 값을 인덱싱 했을 떼 -> indexError\n",
        "\n",
        "## 기본 예외처리 구조\n",
        "아래 퀘스트 코드의 기본 예외처리 구조는 아래와 같습니다.\n",
        "\n",
        "```python\n",
        "try:\n",
        "    # 예외가 발생할 가능성이 있는 코드\n",
        "    x = int(input(\"정수를 입력하세요: \"))\n",
        "    result = 10 / x\n",
        "except ValueError:\n",
        "    # ValueError 예외가 발생했을 때 실행되는 코드\n",
        "    print(\"유효하지 않은 입력입니다. 정수를 입력해주세요.\")\n",
        "except ZeroDivisionError:\n",
        "    # ZeroDivisionError 예외가 발생했을 때 실행되는 코드\n",
        "    print(\"0으로 나눌 수 없습니다.\")\n",
        "else:\n",
        "    # 예외가 발생하지 않았을 때 실행되는 코드\n",
        "    print(f\"결과: {result}\")\n",
        "finally:\n",
        "    # 예외 발생 여부와 상관없이 항상 실행되는 코드\n",
        "    print(\"프로그램이 종료되었습니다.\")\n",
        "\n",
        "```"
      ],
      "metadata": {
        "id": "EjBwluTGPJv4"
      }
    },
    {
      "cell_type": "markdown",
      "source": [
        "## 파이썬 계산기 프로그램"
      ],
      "metadata": {
        "id": "8h_xpu1fU93i"
      }
    },
    {
      "cell_type": "code",
      "execution_count": null,
      "metadata": {
        "colab": {
          "base_uri": "https://localhost:8080/"
        },
        "id": "zTz1nwuwPFQI",
        "outputId": "7441f757-1109-4c34-af2a-7f0da46e0451"
      },
      "outputs": [
        {
          "output_type": "stream",
          "name": "stdout",
          "text": [
            "첫 번째 정수를 입력하세요: 2\n",
            "두 번째 정수를 입력하세요: 3\n",
            "연산자를 입력하세요 (+, -, *, /, **): **\n",
            "결과: 2 ** 3 = 8\n",
            "계속 계산하시겠습니까? (예/아니오): 아니오\n",
            "계산기를 종료합니다.\n"
          ]
        }
      ],
      "source": [
        "# math 모듈을 임포트하여 제곱 연산에 사용\n",
        "import math\n",
        "\n",
        "def get_integer(prompt):\n",
        "    while True:\n",
        "        try:\n",
        "            # 사용자로부터 정수를 입력받아 반환\n",
        "            return int(input(prompt))\n",
        "        except ValueError:\n",
        "            print(\"잘못된 입력입니다. 정수를 입력해주세요.\")  # 정수가 아닌 값을 입력한 경우 오류 메시지 출력\n",
        "\n",
        "def get_operator():\n",
        "    operators = ['+', '-', '*', '/', '**']  # 지원하는 연산자 목록\n",
        "    while True:\n",
        "        operator = input(\"연산자를 입력하세요 (+, -, *, /, **): \")  # 사용자로부터 연산자를 입력받음\n",
        "        if operator in operators:\n",
        "            return operator  # 유효한 연산자인 경우 반환\n",
        "        else:\n",
        "            print(\"지원하지 않는 연산자입니다. 다시 입력해주세요.\")  # 유효하지 않은 연산자인 경우 오류 메시지 출력\n",
        "\n",
        "def calculate(a, b, operator):\n",
        "    if operator == '+':\n",
        "        return a + b  # 덧셈 연산\n",
        "    elif operator == '-':\n",
        "        return a - b  # 뺄셈 연산\n",
        "    elif operator == '*':\n",
        "        return a * b  # 곱셈 연산\n",
        "    elif operator == '/':\n",
        "        if b == 0:\n",
        "            raise ZeroDivisionError(\"0으로 나눌 수 없습니다.\")  # 0으로 나누는 경우 오류 발생\n",
        "        return a / b  # 나눗셈 연산\n",
        "    elif operator == '**':\n",
        "        return int(math.pow(a, b))  # 제곱 연산\n",
        "\n",
        "def main():\n",
        "    while True:\n",
        "        try:\n",
        "            num1 = get_integer(\"첫 번째 정수를 입력하세요: \")  # 첫 번째 정수를 입력받음\n",
        "            num2 = get_integer(\"두 번째 정수를 입력하세요: \")  # 두 번째 정수를 입력받음\n",
        "            operator = get_operator()  # 연산자를 입력받음\n",
        "            result = calculate(num1, num2, operator)  # 계산 결과를 얻음\n",
        "            print(f\"결과: {num1} {operator} {num2} = {result}\")  # 계산 결과를 출력\n",
        "        except ZeroDivisionError as e:\n",
        "            print(e)  # 0으로 나누는 경우 오류 메시지 출력\n",
        "        except Exception as e:\n",
        "            print(f\"오류가 발생했습니다: {e}\")  # 그 외 예외 발생 시 오류 메시지 출력\n",
        "\n",
        "        cont = input(\"계속 계산하시겠습니까? (예/아니오): \")  # 계속 계산할 것인지 묻기\n",
        "        if cont.lower() != '예':  # '예'가 아닌 경우 반복문을 종료\n",
        "            print(\"계산기를 종료합니다.\")  # 종료 메시지 출력\n",
        "            break\n",
        "\n",
        "if __name__ == \"__main__\":\n",
        "    main()  # 스크립트가 직접 실행될 때만 main() 함수를 호출\n"
      ]
    },
    {
      "cell_type": "markdown",
      "source": [
        "## 다른 방법으로 구현한 예"
      ],
      "metadata": {
        "id": "LHMSE7qZU6mR"
      }
    },
    {
      "cell_type": "code",
      "source": [
        "'''\n",
        "다른 방법으로 구현해 보았습니다.\n",
        "\n",
        "* 예외처리 방법: try, except\n",
        "* 예외랑 반복을 따로 처리\n",
        "\n",
        "'''\n",
        "\n",
        "# 불러올 것들\n",
        "from math import pow    # 제곱은 모듈 사용해 연산하기 (math 모듈, pow 함수)\n",
        "\n",
        "\n",
        "# 입력 받기, 예외 처리, 반복 (정수1, 정수2, 연산자)\n",
        "try:\n",
        "  caln = input('사칙연산과 제곱(+,-,*,/,**)') # 예외가 발생할 수 있는 부분\n",
        "except:\n",
        "  raise ValueError('연산자가 잘못되었습니다.')  # 예외가 발생했을 때 실행할 코드\n",
        "  # 입력 값이 틀린 경우 처리\n",
        "  # 반복처리\n",
        "else:  # 예외가 발생하지 않았을 때 실행할 코드\n",
        "  # 다음 입력으로 넘어가기\n",
        "finally: # 예외와 관계없이 무조건 실행되는 코드\n",
        "   # 다음 입력으로 넘어가기\n",
        "\n",
        "try:\n",
        "  num1 = int(input('첫 번째 정수를 입력해주세요: '))\n",
        "\n",
        "except ValueError:\n",
        "  print('잘못된 입력 값입니다. 정수를 입력해주세요.')\n",
        "try:\n",
        "  num2 = int(input('두 번째 정수를 입력해주세요: '))\n",
        "\n",
        "except ValueError:\n",
        "  print('잘못된 입력 값입니다. 정수를 입력해주세요.')\n",
        "  # 만약 caln == '/' and num2 == 0, ZeroDivisionError\n",
        "  if caln == '/' and num2 == 0:\n",
        "    raise ZeroDivisionError('0으로 나눌 수 없습니다.')\n",
        "    # while caln == False:\n",
        "      # caln = input('0이 아닌 정수를 입력해주세요. ')\n",
        "  elif caln == '+':\n",
        "    ans = num1 + num2\n",
        "  elif caln == '-':\n",
        "    ans = num1 - num2\n",
        "  elif caln == '*':\n",
        "    ans = num1 + num2\n",
        "  elif caln == '**':\n",
        "    ans = pow(num1, num2)\n",
        "  else:\n",
        "\n",
        "\n",
        "\n",
        "# 프로그램 종료 여부 선택\n",
        "  # 보토은 프로그램이 수행되고 마지막에 종료 여부를 확인함.\n",
        "  # 그게 아니라면 프로그램 수행 중 어떠한 값이라도 입력되면 종료되도록 해야함. 이건 지금 당장 X\n",
        "  # 일단은 종료 여부를 확인하기 위한 어떠한 값을 입력받아야 함.\n",
        "\n",
        "try:\n",
        "  sel = input('계속 실행하시겠습니까? (y/n)') # y,n,Y,N\n",
        "except:\n",
        "  if sel = 'y' or sel = 'Y':\n",
        "  elif sel = 'x' or sel = 'X':\n",
        "\n",
        "'''\n",
        "sel = input('계속 실행하시겠습니까? (y/n)') # y,n,Y,N\n",
        "if sel = 'y' or sel = 'Y':\n",
        "  # 계속 실행\n",
        "elif sel = 'x' or sel = 'X':\n",
        "  break\n",
        "else:\n",
        "  다시 입력해주세요.\n",
        "  '''"
      ],
      "metadata": {
        "id": "QLolqm-DU54c",
        "colab": {
          "base_uri": "https://localhost:8080/"
        },
        "outputId": "e9451929-9701-49d0-d064-f83e145a6182"
      },
      "execution_count": null,
      "outputs": [
        {
          "name": "stdout",
          "output_type": "stream",
          "text": [
            "사칙연산과 제곱(+,-,*,/,**s\n",
            "sdf\n",
            "잘못된 입력 값입니다. 정수를 입력해주세요.\n",
            "3\n"
          ]
        }
      ]
    },
    {
      "cell_type": "code",
      "source": [
        "'''\n",
        "다른 방법으로 구현해 보았습니다.2\n",
        "\n",
        "\n",
        "'''\n",
        "\n",
        "# 불러올 것들\n",
        "from math import pow    # 제곱은 모듈 사용해 연산하기 (math 모듈, pow 함수)\n",
        "\n",
        "\n",
        "# 입력 받기, 예외 처리, 반복 (정수1, 정수2, 연산자)\n",
        "while True:\n",
        "\n",
        "\n",
        "try:\n",
        "  caln = input('사칙연산과 제곱(+,-,*,/,**)')\n",
        "except:\n",
        "  print('연산자가 잘못되었습니다. 다시 입력해주세요.')\n",
        "  # 입력 값이 틀린 경우 처리\n",
        "  # 반복처리\n",
        "try:\n",
        "  num1 = int(input('첫 번째 정수를 입력해주세요: '))\n",
        "\n",
        "except ValueError:\n",
        "  print('잘못된 입력 값입니다. 정수를 입력해주세요.')\n",
        "try:\n",
        "  num2 = int(input('두 번째 정수를 입력해주세요: '))\n",
        "\n",
        "except ValueError:\n",
        "  print('잘못된 입력 값입니다. 정수를 입력해주세요.')\n",
        "  # 만약 caln == '/' and num2 == 0, ZeroDivisionError\n",
        "  if caln == '/' and num2 == 0:\n",
        "    raise ZeroDivisionError('0으로 나눌 수 없습니다.')\n",
        "    # while caln == False:\n",
        "      # caln = input('0이 아닌 정수를 입력해주세요. ')\n",
        "  elif caln == '+':\n",
        "    ans = num1 + num2\n",
        "  elif caln == '-':\n",
        "    ans = num1 - num2\n",
        "  elif caln == '*':\n",
        "    ans = num1 + num2\n",
        "  elif caln == '**':\n",
        "    ans = pow(num1, num2)\n",
        "  else:\n",
        "\n",
        "\n",
        "\n",
        "# 프로그램 종료 여부 선택\n",
        "  # 보토은 프로그램이 수행되고 마지막에 종료 여부를 확인함.\n",
        "  # 그게 아니라면 프로그램 수행 중 어떠한 값이라도 입력되면 종료되도록 해야함. 이건 지금 당장 X\n",
        "  # 일단은 종료 여부를 확인하기 위한 어떠한 값을 입력받아야 함.\n",
        "\n",
        "try:\n",
        "  sel = input('계속 실행하시겠습니까? (y/n)') # y,n,Y,N\n",
        "except:\n",
        "  if sel = 'y' or sel = 'Y':\n",
        "  elif sel = 'x' or sel = 'X':\n",
        "\n",
        "'''\n",
        "sel = input('계속 실행하시겠습니까? (y/n)') # y,n,Y,N\n",
        "if sel = 'y' or sel = 'Y':\n",
        "  # 계속 실행\n",
        "elif sel = 'x' or sel = 'X':\n",
        "  break\n",
        "else:\n",
        "  다시 입력해주세요.\n",
        "  '''"
      ],
      "metadata": {
        "id": "ymqafdimel4G"
      },
      "execution_count": null,
      "outputs": []
    },
    {
      "cell_type": "markdown",
      "source": [
        "## 방법3\n"
      ],
      "metadata": {
        "id": "OA5C49SjgP9r"
      }
    },
    {
      "cell_type": "code",
      "source": [
        "# 제곱 연산자 사용을 위한 모듈 import\n",
        "from math import pow\n",
        "\n",
        "# 예외 처리 없이 하는 방법\n",
        "def get_integer(pos):\n",
        "  while True:\n",
        "    num = input(\"\")\n",
        "    if (type(num) == int or type(num) == float):\n",
        "      print(pos.__name__, \"오류가 발생하였습니다.\")\n",
        "      break\n",
        "\n",
        "  return num\n",
        "\n",
        "def get_operator(pos):\n",
        "  operators = ['+', '-', '*', '/', '**']\n",
        "\n",
        "  while True:\n",
        "    op = input('')\n",
        "    if op in operators:\n",
        "      break\n",
        "\n",
        "  return op\n",
        "\n",
        "@get_integer, get_\n",
        "def error_msg(pos):\n",
        "\n",
        "  return\n",
        "\n",
        "def main():\n",
        "  while True:\n",
        "    print(\"첫 번째 정수를 입력하세요 :\")\n",
        "    operand1 = get_integer()\n",
        "\n",
        "    print(\"두 번째 정수를 입력하세요 :\")\n",
        "    operand2 = get_integer()\n",
        "\n",
        "    print(\"연산자를 입력하세요(+,-,*,/,**) :\")\n",
        "    operator = get_operator()\n",
        "\n",
        "    if operator == '+':\n",
        "      result = operand1 + operand2\n",
        "    elif operator == '-':\n",
        "      result = operand1 - operand2\n",
        "    elif operator == '*':\n",
        "      result = operand1 * operand2\n",
        "    elif operator == '/':\n",
        "      result = operand1 / operand2\n",
        "    elif operator == '**':\n",
        "      result = pow(operand1, operand2)\n",
        "\n",
        "\n",
        "if __name__ == \"__main__\":\n",
        "    main()  # 스크립트가 직접 실행될 때만 main() 함수를 호출\n"
      ],
      "metadata": {
        "colab": {
          "base_uri": "https://localhost:8080/",
          "height": 460
        },
        "id": "x2PVq4_3gXhT",
        "outputId": "7b26b5a3-e388-462f-8b12-195a05780bce"
      },
      "execution_count": null,
      "outputs": [
        {
          "output_type": "stream",
          "name": "stdout",
          "text": [
            "첫 번째 정수를 입력하세요 :\n",
            "1.1\n",
            "두 번째 정수를 입력하세요 :\n",
            "2.2\n",
            "첫 번째 정수를 입력하세요 :\n"
          ]
        },
        {
          "output_type": "error",
          "ename": "KeyboardInterrupt",
          "evalue": "Interrupted by user",
          "traceback": [
            "\u001b[0;31m---------------------------------------------------------------------------\u001b[0m",
            "\u001b[0;31mKeyboardInterrupt\u001b[0m                         Traceback (most recent call last)",
            "\u001b[0;32m<ipython-input-6-9e9e8aa11e18>\u001b[0m in \u001b[0;36m<cell line: 12>\u001b[0;34m()\u001b[0m\n\u001b[1;32m     12\u001b[0m \u001b[0;32mwhile\u001b[0m \u001b[0;32mTrue\u001b[0m\u001b[0;34m:\u001b[0m\u001b[0;34m\u001b[0m\u001b[0;34m\u001b[0m\u001b[0m\n\u001b[1;32m     13\u001b[0m   \u001b[0mprint\u001b[0m\u001b[0;34m(\u001b[0m\u001b[0;34m\"첫 번째 정수를 입력하세요 :\"\u001b[0m\u001b[0;34m)\u001b[0m\u001b[0;34m\u001b[0m\u001b[0;34m\u001b[0m\u001b[0m\n\u001b[0;32m---> 14\u001b[0;31m   \u001b[0moperand1\u001b[0m \u001b[0;34m=\u001b[0m \u001b[0mget_integer\u001b[0m\u001b[0;34m(\u001b[0m\u001b[0;34m)\u001b[0m\u001b[0;34m\u001b[0m\u001b[0;34m\u001b[0m\u001b[0m\n\u001b[0m\u001b[1;32m     15\u001b[0m \u001b[0;34m\u001b[0m\u001b[0m\n\u001b[1;32m     16\u001b[0m   \u001b[0mprint\u001b[0m\u001b[0;34m(\u001b[0m\u001b[0;34m\"두 번째 정수를 입력하세요 :\"\u001b[0m\u001b[0;34m)\u001b[0m\u001b[0;34m\u001b[0m\u001b[0;34m\u001b[0m\u001b[0m\n",
            "\u001b[0;32m<ipython-input-6-9e9e8aa11e18>\u001b[0m in \u001b[0;36mget_integer\u001b[0;34m()\u001b[0m\n\u001b[1;32m      3\u001b[0m \u001b[0;34m\u001b[0m\u001b[0m\n\u001b[1;32m      4\u001b[0m \u001b[0;32mdef\u001b[0m \u001b[0mget_integer\u001b[0m\u001b[0;34m(\u001b[0m\u001b[0;34m)\u001b[0m\u001b[0;34m:\u001b[0m\u001b[0;34m\u001b[0m\u001b[0;34m\u001b[0m\u001b[0m\n\u001b[0;32m----> 5\u001b[0;31m   \u001b[0mnum\u001b[0m \u001b[0;34m=\u001b[0m \u001b[0minput\u001b[0m\u001b[0;34m(\u001b[0m\u001b[0;34m\"\"\u001b[0m\u001b[0;34m)\u001b[0m\u001b[0;34m\u001b[0m\u001b[0;34m\u001b[0m\u001b[0m\n\u001b[0m\u001b[1;32m      6\u001b[0m   \u001b[0;32mreturn\u001b[0m \u001b[0mnum\u001b[0m\u001b[0;34m\u001b[0m\u001b[0;34m\u001b[0m\u001b[0m\n\u001b[1;32m      7\u001b[0m \u001b[0;34m\u001b[0m\u001b[0m\n",
            "\u001b[0;32m/usr/local/lib/python3.10/dist-packages/ipykernel/kernelbase.py\u001b[0m in \u001b[0;36mraw_input\u001b[0;34m(self, prompt)\u001b[0m\n\u001b[1;32m    849\u001b[0m                 \u001b[0;34m\"raw_input was called, but this frontend does not support input requests.\"\u001b[0m\u001b[0;34m\u001b[0m\u001b[0;34m\u001b[0m\u001b[0m\n\u001b[1;32m    850\u001b[0m             )\n\u001b[0;32m--> 851\u001b[0;31m         return self._input_request(str(prompt),\n\u001b[0m\u001b[1;32m    852\u001b[0m             \u001b[0mself\u001b[0m\u001b[0;34m.\u001b[0m\u001b[0m_parent_ident\u001b[0m\u001b[0;34m,\u001b[0m\u001b[0;34m\u001b[0m\u001b[0;34m\u001b[0m\u001b[0m\n\u001b[1;32m    853\u001b[0m             \u001b[0mself\u001b[0m\u001b[0;34m.\u001b[0m\u001b[0m_parent_header\u001b[0m\u001b[0;34m,\u001b[0m\u001b[0;34m\u001b[0m\u001b[0;34m\u001b[0m\u001b[0m\n",
            "\u001b[0;32m/usr/local/lib/python3.10/dist-packages/ipykernel/kernelbase.py\u001b[0m in \u001b[0;36m_input_request\u001b[0;34m(self, prompt, ident, parent, password)\u001b[0m\n\u001b[1;32m    893\u001b[0m             \u001b[0;32mexcept\u001b[0m \u001b[0mKeyboardInterrupt\u001b[0m\u001b[0;34m:\u001b[0m\u001b[0;34m\u001b[0m\u001b[0;34m\u001b[0m\u001b[0m\n\u001b[1;32m    894\u001b[0m                 \u001b[0;31m# re-raise KeyboardInterrupt, to truncate traceback\u001b[0m\u001b[0;34m\u001b[0m\u001b[0;34m\u001b[0m\u001b[0m\n\u001b[0;32m--> 895\u001b[0;31m                 \u001b[0;32mraise\u001b[0m \u001b[0mKeyboardInterrupt\u001b[0m\u001b[0;34m(\u001b[0m\u001b[0;34m\"Interrupted by user\"\u001b[0m\u001b[0;34m)\u001b[0m \u001b[0;32mfrom\u001b[0m \u001b[0;32mNone\u001b[0m\u001b[0;34m\u001b[0m\u001b[0;34m\u001b[0m\u001b[0m\n\u001b[0m\u001b[1;32m    896\u001b[0m             \u001b[0;32mexcept\u001b[0m \u001b[0mException\u001b[0m \u001b[0;32mas\u001b[0m \u001b[0me\u001b[0m\u001b[0;34m:\u001b[0m\u001b[0;34m\u001b[0m\u001b[0;34m\u001b[0m\u001b[0m\n\u001b[1;32m    897\u001b[0m                 \u001b[0mself\u001b[0m\u001b[0;34m.\u001b[0m\u001b[0mlog\u001b[0m\u001b[0;34m.\u001b[0m\u001b[0mwarning\u001b[0m\u001b[0;34m(\u001b[0m\u001b[0;34m\"Invalid Message:\"\u001b[0m\u001b[0;34m,\u001b[0m \u001b[0mexc_info\u001b[0m\u001b[0;34m=\u001b[0m\u001b[0;32mTrue\u001b[0m\u001b[0;34m)\u001b[0m\u001b[0;34m\u001b[0m\u001b[0;34m\u001b[0m\u001b[0m\n",
            "\u001b[0;31mKeyboardInterrupt\u001b[0m: Interrupted by user"
          ]
        }
      ]
    },
    {
      "cell_type": "code",
      "source": [
        "'''\n",
        "다른 방법으로 구현해 보았습니다.3\n",
        "\n",
        "\n",
        "'''\n",
        "\n",
        "# 불러올 것들\n",
        "from math import pow    # 제곱은 모듈 사용해 연산하기 (math 모듈, pow 함수)\n",
        "\n",
        "while True: # 프로그램 실행\n",
        "\n",
        "  # 입력 받기, 예외 처리, 반복 (정수1, 정수2, 연산자)\n",
        "  # 입력 값이 틀린 경우 처리\n",
        "\n",
        "  caln = ''\n",
        "  num1 = 0\n",
        "  num2 = 0\n",
        "\n",
        "  # 연산자 입력 받기\n",
        "  while True:\n",
        "    caln = input('사칙연산과 제곱(+,-,*,/,**) 중에 선택해주세요: ')\n",
        "    if caln in ['+','-','*','/','**']:\n",
        "      pass\n",
        "    else:\n",
        "      raise Exception('연산자가 잘못되었습니다.')\n",
        "      print('다시 입력해주세요.')\n",
        "      continue\n",
        "    break\n",
        "\n",
        "  # 정수1 입력 받기\n",
        "  while True:\n",
        "    num1 = input('첫 번째 정수를 입력해주세요: ')\n",
        "    if num1.isdigit() or num1.lstrip(\"-\").isdigit():   # 양수, 정수\n",
        "      num1 = int(num1)\n",
        "    else:\n",
        "      raise Exception('잘못된 입력입니다.')\n",
        "      continue\n",
        "    break\n",
        "\n",
        "\n",
        "  print(\"반복문이 하나 끝났습니다.\")\n",
        "  print(caln)\n",
        "\n",
        "  # 정수2 입력 받기\n",
        "  while True:\n",
        "    num2 = input('첫 번째 정수를 입력해주세요: ')\n",
        "    if num2.isdigit() or num2.lstrip(\"-\").isdigit():   # 양수, 정수\n",
        "      num2 = int(num2)\n",
        "    else:\n",
        "      raise Exception()\n",
        "      continue\n",
        "    break\n",
        "\n",
        "  print(\"반복문이 하나 끝났습니다.\")\n",
        "  print(num1)\n",
        "\n",
        "  # 연산\n",
        "\n",
        "\n",
        "  # 실행/종료 선택\n",
        "  sel = input('계속 실행하시겠습니까? (y/n)') # y,n,Y,N\n",
        "  if sel == 'y' or sel == 'Y':\n",
        "    continue\n",
        "  elif sel == 'n' or sel == 'N':\n",
        "    break\n",
        "  else:\n",
        "    raise ('')\n",
        "\n",
        "'''\n",
        "  print('잘못된 입력 값입니다. 정수를 입력해주세요.')\n",
        "  # 만약 caln == '/' and num2 == 0, ZeroDivisionError\n",
        "  if caln == '/' and num2 == 0:\n",
        "    raise ZeroDivisionError('0으로 나눌 수 없습니다.')\n",
        "    # while caln == False:\n",
        "      # caln = input('0이 아닌 정수를 입력해주세요. ')\n",
        "  elif caln == '+':\n",
        "    ans = num1 + num2\n",
        "  elif caln == '-':\n",
        "    ans = num1 - num2\n",
        "  elif caln == '*':\n",
        "    ans = num1 + num2\n",
        "  elif caln == '**':\n",
        "    ans = pow(num1, num2)\n",
        "  else:\n",
        "'''"
      ],
      "metadata": {
        "colab": {
          "base_uri": "https://localhost:8080/",
          "height": 367
        },
        "id": "mmRQisGzjqvM",
        "outputId": "6808f7b7-ead5-4a7d-e0d2-327d17a8dee1"
      },
      "execution_count": null,
      "outputs": [
        {
          "name": "stdout",
          "output_type": "stream",
          "text": [
            "사칙연산과 제곱(+,-,*,/,**) 중에 선택해주세요: -\n",
            "첫 번째 정수를 입력해주세요: 2\n",
            "반복문이 하나 끝났습니다.\n",
            "-\n",
            "첫 번째 정수를 입력해주세요: 4\n",
            "반복문이 하나 끝났습니다.\n",
            "2\n",
            "계속 실행하시겠습니까? (y/n)y\n",
            "사칙연산과 제곱(+,-,*,/,**) 중에 선택해주세요: 3\n"
          ]
        },
        {
          "output_type": "error",
          "ename": "Exception",
          "evalue": "연산자가 잘못되었습니다.",
          "traceback": [
            "\u001b[0;31m---------------------------------------------------------------------------\u001b[0m",
            "\u001b[0;31mException\u001b[0m                                 Traceback (most recent call last)",
            "\u001b[0;32m<ipython-input-8-2478209430f4>\u001b[0m in \u001b[0;36m<cell line: 10>\u001b[0;34m()\u001b[0m\n\u001b[1;32m     23\u001b[0m       \u001b[0;32mpass\u001b[0m\u001b[0;34m\u001b[0m\u001b[0;34m\u001b[0m\u001b[0m\n\u001b[1;32m     24\u001b[0m     \u001b[0;32melse\u001b[0m\u001b[0;34m:\u001b[0m\u001b[0;34m\u001b[0m\u001b[0;34m\u001b[0m\u001b[0m\n\u001b[0;32m---> 25\u001b[0;31m       \u001b[0;32mraise\u001b[0m \u001b[0mException\u001b[0m\u001b[0;34m(\u001b[0m\u001b[0;34m'연산자가 잘못되었습니다.'\u001b[0m\u001b[0;34m)\u001b[0m\u001b[0;34m\u001b[0m\u001b[0;34m\u001b[0m\u001b[0m\n\u001b[0m\u001b[1;32m     26\u001b[0m       \u001b[0mprint\u001b[0m\u001b[0;34m(\u001b[0m\u001b[0;34m'다시 입력해주세요.'\u001b[0m\u001b[0;34m)\u001b[0m\u001b[0;34m\u001b[0m\u001b[0;34m\u001b[0m\u001b[0m\n\u001b[1;32m     27\u001b[0m       \u001b[0;32mcontinue\u001b[0m\u001b[0;34m\u001b[0m\u001b[0;34m\u001b[0m\u001b[0m\n",
            "\u001b[0;31mException\u001b[0m: 연산자가 잘못되었습니다."
          ]
        }
      ]
    },
    {
      "cell_type": "markdown",
      "source": [
        "# 회고\n",
        "이준오\n",
        "\n",
        "각자의 생각을 공유하고 다양한 방법으로 시도해보려고 했습니다. 헷갈리거나 모호한 부분에 대해 학습하고 수정하면서 진행해보고 싶었지만 시간이 조금 부족해서 아쉬웠습니다.\n",
        "\n"
      ],
      "metadata": {
        "id": "T8Y7RsvkgYZb"
      }
    },
    {
      "cell_type": "markdown",
      "source": [
        "#회고\n",
        "\n",
        "김재이\n",
        "\n",
        "다양한 방법을 시도해보기에는 시간이 부족했지만 재미있었습니다. 실행까지 여러번 해 보면서 고칠 시간이 있었다면 더 잘 이해가 될 것 같아서 아쉬웠습니다.\n",
        "\n",
        "시도한 내용:\n",
        "- 함수로 구현\n",
        "- try except 예외 위주로 구현\n",
        "- 반복문으로 구현\n",
        "\n",
        "배운 내용:\n",
        "- 예외처리 적용 방법\n",
        "- 프로그램 종료 방법\n",
        "  - 반복문을 break 하면서 종료시키는 방법 밖에 생각하지 못했는데, 반복되는 실행 내용을 하지 않겠다는 출력만으로도 충분하구나\n",
        "\n",
        "\n",
        "대식님과 피어리뷰 진행하며:\n",
        "\n",
        "__잊었던 부분__\n",
        "* 예외를 raise 할 때 공식적으로 define 되어있는 예외 이름을 사용하면 에러가 된다.\n"
      ],
      "metadata": {
        "id": "uKGJN0ZQCvVC"
      }
    }
  ]
}